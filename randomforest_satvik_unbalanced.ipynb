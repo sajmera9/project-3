{
 "cells": [
  {
   "cell_type": "code",
   "execution_count": 1,
   "metadata": {},
   "outputs": [],
   "source": [
    "import pandas as pd\n",
    "import numpy as np"
   ]
  },
  {
   "cell_type": "markdown",
   "metadata": {},
   "source": [
    "# Read the CSV and Perform Basic Data Cleaning"
   ]
  },
  {
   "cell_type": "code",
   "execution_count": 3,
   "metadata": {
    "scrolled": true
   },
   "outputs": [
    {
     "name": "stdout",
     "output_type": "stream",
     "text": [
      "<class 'pandas.core.frame.DataFrame'>\n",
      "RangeIndex: 4898 entries, 0 to 4897\n",
      "Data columns (total 12 columns):\n",
      "fixed acidity           4898 non-null float64\n",
      "volatile acidity        4898 non-null float64\n",
      "citric acid             4898 non-null float64\n",
      "residual sugar          4898 non-null float64\n",
      "chlorides               4898 non-null float64\n",
      "free sulfur dioxide     4898 non-null float64\n",
      "total sulfur dioxide    4898 non-null float64\n",
      "density                 4898 non-null float64\n",
      "pH                      4898 non-null float64\n",
      "sulphates               4898 non-null float64\n",
      "alcohol                 4898 non-null float64\n",
      "quality                 4898 non-null int64\n",
      "dtypes: float64(11), int64(1)\n",
      "memory usage: 459.3 KB\n",
      "<class 'pandas.core.frame.DataFrame'>\n",
      "RangeIndex: 1599 entries, 0 to 1598\n",
      "Data columns (total 12 columns):\n",
      "fixed acidity           1599 non-null float64\n",
      "volatile acidity        1599 non-null float64\n",
      "citric acid             1599 non-null float64\n",
      "residual sugar          1599 non-null float64\n",
      "chlorides               1599 non-null float64\n",
      "free sulfur dioxide     1599 non-null float64\n",
      "total sulfur dioxide    1599 non-null float64\n",
      "density                 1599 non-null float64\n",
      "pH                      1599 non-null float64\n",
      "sulphates               1599 non-null float64\n",
      "alcohol                 1599 non-null float64\n",
      "quality                 1599 non-null int64\n",
      "dtypes: float64(11), int64(1)\n",
      "memory usage: 150.0 KB\n"
     ]
    }
   ],
   "source": [
    "red_wine_df = pd.read_csv(\"Resources/winequality-red.csv\", sep=';')\n",
    "white_wine_df = pd.read_csv(\"Resources/winequality-white.csv\", sep=';')\n",
    "# white_wine_df.info()\n",
    "# red_wine_df.info()"
   ]
  },
  {
   "cell_type": "markdown",
   "metadata": {},
   "source": [
    "### Unbalanced Data for both White Wine Data (4898 data points) and Red Wine Data (1599 data points) "
   ]
  },
  {
   "cell_type": "markdown",
   "metadata": {},
   "source": [
    "The model consists of all white and red wine data"
   ]
  },
  {
   "cell_type": "code",
   "execution_count": 4,
   "metadata": {
    "scrolled": false
   },
   "outputs": [],
   "source": [
    "baseline_red_df = red_wine_df.copy()\n",
    "baseline_white_df = white_wine_df.copy()\n",
    "baseline_red_df[\"color\"] = \"red\"\n",
    "baseline_white_df[\"color\"] = \"white\"\n",
    "\n",
    "baseline_wine_df = pd.concat([baseline_red_df, baseline_white_df])\n",
    "all_wine_df = baseline_wine_df.drop(columns=\"color\")\n",
    "\n",
    "color_wine_df = pd.get_dummies(baseline_wine_df,columns=['color'])\n",
    "colors_df = color_wine_df.drop(columns=[\"color_red\"]).copy()\n",
    "\n",
    "dummy_colors_df = colors_df.rename(columns={\"color_white\":\"color\"})\n",
    "#all_wine_df"
   ]
  },
  {
   "cell_type": "markdown",
   "metadata": {},
   "source": [
    "To test specific ranges in all_wine_df, not including colors, use: `range_unbalanced_df`"
   ]
  },
  {
   "cell_type": "code",
   "execution_count": 31,
   "metadata": {},
   "outputs": [],
   "source": [
    "range_unbalanced_df = dummy_colors_df.loc[\\\n",
    "(dummy_colors_df[\"quality\"] <= 8 ) & \\\n",
    "(dummy_colors_df[\"quality\"] >= 3 )  \\\n",
    "]"
   ]
  },
  {
   "cell_type": "markdown",
   "metadata": {},
   "source": [
    "Check the count for each quality score in `range_unbalanced_df`"
   ]
  },
  {
   "cell_type": "code",
   "execution_count": 6,
   "metadata": {},
   "outputs": [],
   "source": [
    "unbalanced_count_df = range_unbalanced_df.groupby('quality').count()\n",
    "#unbalanced_count_df"
   ]
  },
  {
   "cell_type": "markdown",
   "metadata": {},
   "source": [
    "To test specific ranges in dummy_colors_df, including colors, use: `range_colors_df`"
   ]
  },
  {
   "cell_type": "code",
   "execution_count": 7,
   "metadata": {},
   "outputs": [],
   "source": [
    "range_colors_df = dummy_colors_df.loc[\\\n",
    "(dummy_colors_df[\"quality\"] <= 8 ) & \\\n",
    "(dummy_colors_df[\"quality\"] >= 3 )  \\\n",
    "]"
   ]
  },
  {
   "cell_type": "markdown",
   "metadata": {},
   "source": [
    "Check the count for each quality score in `range_colors_df`"
   ]
  },
  {
   "cell_type": "code",
   "execution_count": 8,
   "metadata": {},
   "outputs": [],
   "source": [
    "colors_count_df = range_colors_df.groupby('quality').count()\n",
    "#colors_count_df"
   ]
  },
  {
   "cell_type": "markdown",
   "metadata": {},
   "source": [
    "## Feature Engineering:  Moving quality scores into buckets"
   ]
  },
  {
   "cell_type": "markdown",
   "metadata": {},
   "source": [
    "Created THREE bins for unbalanced data called: \"terrible (1), mediocre (2), and great (3)\"\n",
    "The quality scores range from 0 to 4, 5 to 6, and 7 to 10. We will call them 1,2,3."
   ]
  },
  {
   "cell_type": "code",
   "execution_count": 9,
   "metadata": {
    "scrolled": true
   },
   "outputs": [],
   "source": [
    "three_bins_df = all_wine_df.copy()\n",
    "bins = [0, 4, 6, 9]\n",
    "group_names = [1, 2, 3]\n",
    "three_bins_df[\"bin_quality\"] = pd.cut(three_bins_df[\"quality\"], bins, labels=group_names)\n",
    "three_bins_qual_df = three_bins_df.drop(columns=[\"quality\"])\n",
    "#three_bins_qual_df"
   ]
  },
  {
   "cell_type": "markdown",
   "metadata": {},
   "source": [
    "Check the count for each quality score in `three_bins_qual_df`"
   ]
  },
  {
   "cell_type": "code",
   "execution_count": 10,
   "metadata": {
    "scrolled": false
   },
   "outputs": [
    {
     "data": {
      "text/html": [
       "<div>\n",
       "<style scoped>\n",
       "    .dataframe tbody tr th:only-of-type {\n",
       "        vertical-align: middle;\n",
       "    }\n",
       "\n",
       "    .dataframe tbody tr th {\n",
       "        vertical-align: top;\n",
       "    }\n",
       "\n",
       "    .dataframe thead th {\n",
       "        text-align: right;\n",
       "    }\n",
       "</style>\n",
       "<table border=\"1\" class=\"dataframe\">\n",
       "  <thead>\n",
       "    <tr style=\"text-align: right;\">\n",
       "      <th></th>\n",
       "      <th>fixed acidity</th>\n",
       "      <th>volatile acidity</th>\n",
       "      <th>citric acid</th>\n",
       "      <th>residual sugar</th>\n",
       "      <th>chlorides</th>\n",
       "      <th>free sulfur dioxide</th>\n",
       "      <th>total sulfur dioxide</th>\n",
       "      <th>density</th>\n",
       "      <th>pH</th>\n",
       "      <th>sulphates</th>\n",
       "      <th>alcohol</th>\n",
       "    </tr>\n",
       "    <tr>\n",
       "      <th>bin_quality</th>\n",
       "      <th></th>\n",
       "      <th></th>\n",
       "      <th></th>\n",
       "      <th></th>\n",
       "      <th></th>\n",
       "      <th></th>\n",
       "      <th></th>\n",
       "      <th></th>\n",
       "      <th></th>\n",
       "      <th></th>\n",
       "      <th></th>\n",
       "    </tr>\n",
       "  </thead>\n",
       "  <tbody>\n",
       "    <tr>\n",
       "      <th>1</th>\n",
       "      <td>246</td>\n",
       "      <td>246</td>\n",
       "      <td>246</td>\n",
       "      <td>246</td>\n",
       "      <td>246</td>\n",
       "      <td>246</td>\n",
       "      <td>246</td>\n",
       "      <td>246</td>\n",
       "      <td>246</td>\n",
       "      <td>246</td>\n",
       "      <td>246</td>\n",
       "    </tr>\n",
       "    <tr>\n",
       "      <th>2</th>\n",
       "      <td>4974</td>\n",
       "      <td>4974</td>\n",
       "      <td>4974</td>\n",
       "      <td>4974</td>\n",
       "      <td>4974</td>\n",
       "      <td>4974</td>\n",
       "      <td>4974</td>\n",
       "      <td>4974</td>\n",
       "      <td>4974</td>\n",
       "      <td>4974</td>\n",
       "      <td>4974</td>\n",
       "    </tr>\n",
       "    <tr>\n",
       "      <th>3</th>\n",
       "      <td>1277</td>\n",
       "      <td>1277</td>\n",
       "      <td>1277</td>\n",
       "      <td>1277</td>\n",
       "      <td>1277</td>\n",
       "      <td>1277</td>\n",
       "      <td>1277</td>\n",
       "      <td>1277</td>\n",
       "      <td>1277</td>\n",
       "      <td>1277</td>\n",
       "      <td>1277</td>\n",
       "    </tr>\n",
       "  </tbody>\n",
       "</table>\n",
       "</div>"
      ],
      "text/plain": [
       "             fixed acidity  volatile acidity  citric acid  residual sugar  \\\n",
       "bin_quality                                                                 \n",
       "1                      246               246          246             246   \n",
       "2                     4974              4974         4974            4974   \n",
       "3                     1277              1277         1277            1277   \n",
       "\n",
       "             chlorides  free sulfur dioxide  total sulfur dioxide  density  \\\n",
       "bin_quality                                                                  \n",
       "1                  246                  246                   246      246   \n",
       "2                 4974                 4974                  4974     4974   \n",
       "3                 1277                 1277                  1277     1277   \n",
       "\n",
       "               pH  sulphates  alcohol  \n",
       "bin_quality                            \n",
       "1             246        246      246  \n",
       "2            4974       4974     4974  \n",
       "3            1277       1277     1277  "
      ]
     },
     "execution_count": 10,
     "metadata": {},
     "output_type": "execute_result"
    }
   ],
   "source": [
    "three_bins_count = three_bins_qual_df.groupby(\"bin_quality\").count()\n",
    "three_bins_count"
   ]
  },
  {
   "cell_type": "markdown",
   "metadata": {},
   "source": [
    "Created FOUR bins for balanced data called: \"terrible (1), mediocre (2), great (3),and terrific (4)\"\n",
    "The quality scores range from 0 to 4, 5, 6, and 7 to 9. We will call them 1,2,3,4."
   ]
  },
  {
   "cell_type": "code",
   "execution_count": 32,
   "metadata": {
    "scrolled": true
   },
   "outputs": [],
   "source": [
    "four_bins_df = all_wine_df.copy()\n",
    "bins = [0, 4, 5, 6, 9]\n",
    "group_names = [1, 2, 3, 4]\n",
    "four_bins_df[\"bin_quality\"] = pd.cut(four_bins_df[\"quality\"], bins, labels=group_names)\n",
    "four_qual_bins_df = four_bins_df.drop(columns=\"quality\")\n",
    "#four_qual_bins_df"
   ]
  },
  {
   "cell_type": "markdown",
   "metadata": {},
   "source": [
    "Check the count for each quality score in `four_qual_bins_df`"
   ]
  },
  {
   "cell_type": "code",
   "execution_count": 12,
   "metadata": {
    "scrolled": false
   },
   "outputs": [
    {
     "data": {
      "text/html": [
       "<div>\n",
       "<style scoped>\n",
       "    .dataframe tbody tr th:only-of-type {\n",
       "        vertical-align: middle;\n",
       "    }\n",
       "\n",
       "    .dataframe tbody tr th {\n",
       "        vertical-align: top;\n",
       "    }\n",
       "\n",
       "    .dataframe thead th {\n",
       "        text-align: right;\n",
       "    }\n",
       "</style>\n",
       "<table border=\"1\" class=\"dataframe\">\n",
       "  <thead>\n",
       "    <tr style=\"text-align: right;\">\n",
       "      <th></th>\n",
       "      <th>fixed acidity</th>\n",
       "      <th>volatile acidity</th>\n",
       "      <th>citric acid</th>\n",
       "      <th>residual sugar</th>\n",
       "      <th>chlorides</th>\n",
       "      <th>free sulfur dioxide</th>\n",
       "      <th>total sulfur dioxide</th>\n",
       "      <th>density</th>\n",
       "      <th>pH</th>\n",
       "      <th>sulphates</th>\n",
       "      <th>alcohol</th>\n",
       "    </tr>\n",
       "    <tr>\n",
       "      <th>bin_quality</th>\n",
       "      <th></th>\n",
       "      <th></th>\n",
       "      <th></th>\n",
       "      <th></th>\n",
       "      <th></th>\n",
       "      <th></th>\n",
       "      <th></th>\n",
       "      <th></th>\n",
       "      <th></th>\n",
       "      <th></th>\n",
       "      <th></th>\n",
       "    </tr>\n",
       "  </thead>\n",
       "  <tbody>\n",
       "    <tr>\n",
       "      <th>1</th>\n",
       "      <td>246</td>\n",
       "      <td>246</td>\n",
       "      <td>246</td>\n",
       "      <td>246</td>\n",
       "      <td>246</td>\n",
       "      <td>246</td>\n",
       "      <td>246</td>\n",
       "      <td>246</td>\n",
       "      <td>246</td>\n",
       "      <td>246</td>\n",
       "      <td>246</td>\n",
       "    </tr>\n",
       "    <tr>\n",
       "      <th>2</th>\n",
       "      <td>2138</td>\n",
       "      <td>2138</td>\n",
       "      <td>2138</td>\n",
       "      <td>2138</td>\n",
       "      <td>2138</td>\n",
       "      <td>2138</td>\n",
       "      <td>2138</td>\n",
       "      <td>2138</td>\n",
       "      <td>2138</td>\n",
       "      <td>2138</td>\n",
       "      <td>2138</td>\n",
       "    </tr>\n",
       "    <tr>\n",
       "      <th>3</th>\n",
       "      <td>2836</td>\n",
       "      <td>2836</td>\n",
       "      <td>2836</td>\n",
       "      <td>2836</td>\n",
       "      <td>2836</td>\n",
       "      <td>2836</td>\n",
       "      <td>2836</td>\n",
       "      <td>2836</td>\n",
       "      <td>2836</td>\n",
       "      <td>2836</td>\n",
       "      <td>2836</td>\n",
       "    </tr>\n",
       "    <tr>\n",
       "      <th>4</th>\n",
       "      <td>1277</td>\n",
       "      <td>1277</td>\n",
       "      <td>1277</td>\n",
       "      <td>1277</td>\n",
       "      <td>1277</td>\n",
       "      <td>1277</td>\n",
       "      <td>1277</td>\n",
       "      <td>1277</td>\n",
       "      <td>1277</td>\n",
       "      <td>1277</td>\n",
       "      <td>1277</td>\n",
       "    </tr>\n",
       "  </tbody>\n",
       "</table>\n",
       "</div>"
      ],
      "text/plain": [
       "             fixed acidity  volatile acidity  citric acid  residual sugar  \\\n",
       "bin_quality                                                                 \n",
       "1                      246               246          246             246   \n",
       "2                     2138              2138         2138            2138   \n",
       "3                     2836              2836         2836            2836   \n",
       "4                     1277              1277         1277            1277   \n",
       "\n",
       "             chlorides  free sulfur dioxide  total sulfur dioxide  density  \\\n",
       "bin_quality                                                                  \n",
       "1                  246                  246                   246      246   \n",
       "2                 2138                 2138                  2138     2138   \n",
       "3                 2836                 2836                  2836     2836   \n",
       "4                 1277                 1277                  1277     1277   \n",
       "\n",
       "               pH  sulphates  alcohol  \n",
       "bin_quality                            \n",
       "1             246        246      246  \n",
       "2            2138       2138     2138  \n",
       "3            2836       2836     2836  \n",
       "4            1277       1277     1277  "
      ]
     },
     "execution_count": 12,
     "metadata": {},
     "output_type": "execute_result"
    }
   ],
   "source": [
    "four_bins_count = four_qual_bins_df.groupby(\"bin_quality\").count()\n",
    "four_bins_count"
   ]
  },
  {
   "cell_type": "markdown",
   "metadata": {},
   "source": [
    "# Select your features (columns)"
   ]
  },
  {
   "cell_type": "markdown",
   "metadata": {},
   "source": [
    "Drop bin_quality column, if dataframes `four_qual_bins_df` or `three_bins_qual_df` are used. Use the following:\n"
   ]
  },
  {
   "cell_type": "code",
   "execution_count": 20,
   "metadata": {},
   "outputs": [],
   "source": [
    "# X = four_qual_bins_df.drop(columns=['bin_quality'])\n",
    "# X = three_bins_qual_df.drop(columns=['bin_quality'])"
   ]
  },
  {
   "cell_type": "code",
   "execution_count": 21,
   "metadata": {
    "scrolled": false
   },
   "outputs": [],
   "source": [
    "from sklearn.model_selection import train_test_split\n",
    "# Set features.\n",
    "X = four_qual_bins_df.drop(columns=['bin_quality'])\n"
   ]
  },
  {
   "cell_type": "code",
   "execution_count": 22,
   "metadata": {},
   "outputs": [
    {
     "data": {
      "text/html": [
       "<div>\n",
       "<style scoped>\n",
       "    .dataframe tbody tr th:only-of-type {\n",
       "        vertical-align: middle;\n",
       "    }\n",
       "\n",
       "    .dataframe tbody tr th {\n",
       "        vertical-align: top;\n",
       "    }\n",
       "\n",
       "    .dataframe thead th {\n",
       "        text-align: right;\n",
       "    }\n",
       "</style>\n",
       "<table border=\"1\" class=\"dataframe\">\n",
       "  <thead>\n",
       "    <tr style=\"text-align: right;\">\n",
       "      <th></th>\n",
       "      <th>fixed acidity</th>\n",
       "      <th>volatile acidity</th>\n",
       "      <th>citric acid</th>\n",
       "      <th>residual sugar</th>\n",
       "      <th>chlorides</th>\n",
       "      <th>free sulfur dioxide</th>\n",
       "      <th>total sulfur dioxide</th>\n",
       "      <th>density</th>\n",
       "      <th>pH</th>\n",
       "      <th>sulphates</th>\n",
       "      <th>alcohol</th>\n",
       "    </tr>\n",
       "  </thead>\n",
       "  <tbody>\n",
       "    <tr>\n",
       "      <th>0</th>\n",
       "      <td>7.4</td>\n",
       "      <td>0.70</td>\n",
       "      <td>0.00</td>\n",
       "      <td>1.9</td>\n",
       "      <td>0.076</td>\n",
       "      <td>11.0</td>\n",
       "      <td>34.0</td>\n",
       "      <td>0.9978</td>\n",
       "      <td>3.51</td>\n",
       "      <td>0.56</td>\n",
       "      <td>9.4</td>\n",
       "    </tr>\n",
       "    <tr>\n",
       "      <th>1</th>\n",
       "      <td>7.8</td>\n",
       "      <td>0.88</td>\n",
       "      <td>0.00</td>\n",
       "      <td>2.6</td>\n",
       "      <td>0.098</td>\n",
       "      <td>25.0</td>\n",
       "      <td>67.0</td>\n",
       "      <td>0.9968</td>\n",
       "      <td>3.20</td>\n",
       "      <td>0.68</td>\n",
       "      <td>9.8</td>\n",
       "    </tr>\n",
       "    <tr>\n",
       "      <th>2</th>\n",
       "      <td>7.8</td>\n",
       "      <td>0.76</td>\n",
       "      <td>0.04</td>\n",
       "      <td>2.3</td>\n",
       "      <td>0.092</td>\n",
       "      <td>15.0</td>\n",
       "      <td>54.0</td>\n",
       "      <td>0.9970</td>\n",
       "      <td>3.26</td>\n",
       "      <td>0.65</td>\n",
       "      <td>9.8</td>\n",
       "    </tr>\n",
       "    <tr>\n",
       "      <th>3</th>\n",
       "      <td>11.2</td>\n",
       "      <td>0.28</td>\n",
       "      <td>0.56</td>\n",
       "      <td>1.9</td>\n",
       "      <td>0.075</td>\n",
       "      <td>17.0</td>\n",
       "      <td>60.0</td>\n",
       "      <td>0.9980</td>\n",
       "      <td>3.16</td>\n",
       "      <td>0.58</td>\n",
       "      <td>9.8</td>\n",
       "    </tr>\n",
       "    <tr>\n",
       "      <th>4</th>\n",
       "      <td>7.4</td>\n",
       "      <td>0.70</td>\n",
       "      <td>0.00</td>\n",
       "      <td>1.9</td>\n",
       "      <td>0.076</td>\n",
       "      <td>11.0</td>\n",
       "      <td>34.0</td>\n",
       "      <td>0.9978</td>\n",
       "      <td>3.51</td>\n",
       "      <td>0.56</td>\n",
       "      <td>9.4</td>\n",
       "    </tr>\n",
       "  </tbody>\n",
       "</table>\n",
       "</div>"
      ],
      "text/plain": [
       "   fixed acidity  volatile acidity  citric acid  residual sugar  chlorides  \\\n",
       "0            7.4              0.70         0.00             1.9      0.076   \n",
       "1            7.8              0.88         0.00             2.6      0.098   \n",
       "2            7.8              0.76         0.04             2.3      0.092   \n",
       "3           11.2              0.28         0.56             1.9      0.075   \n",
       "4            7.4              0.70         0.00             1.9      0.076   \n",
       "\n",
       "   free sulfur dioxide  total sulfur dioxide  density    pH  sulphates  \\\n",
       "0                 11.0                  34.0   0.9978  3.51       0.56   \n",
       "1                 25.0                  67.0   0.9968  3.20       0.68   \n",
       "2                 15.0                  54.0   0.9970  3.26       0.65   \n",
       "3                 17.0                  60.0   0.9980  3.16       0.58   \n",
       "4                 11.0                  34.0   0.9978  3.51       0.56   \n",
       "\n",
       "   alcohol  \n",
       "0      9.4  \n",
       "1      9.8  \n",
       "2      9.8  \n",
       "3      9.8  \n",
       "4      9.4  "
      ]
     },
     "execution_count": 22,
     "metadata": {},
     "output_type": "execute_result"
    }
   ],
   "source": [
    "X.head()"
   ]
  },
  {
   "cell_type": "markdown",
   "metadata": {},
   "source": [
    "# Create a Train Test Split\n",
    "\n",
    "Use `quality` for the y values"
   ]
  },
  {
   "cell_type": "code",
   "execution_count": 24,
   "metadata": {},
   "outputs": [],
   "source": [
    "#80% train, 20% test. y is this one column\n",
    "y = four_qual_bins_df['bin_quality']\n",
    "\n",
    "#random state 42 will have same picks for x test and y test\n",
    "X_train, X_test, y_train, y_test = train_test_split(X, y, random_state=42)"
   ]
  },
  {
   "cell_type": "code",
   "execution_count": 25,
   "metadata": {},
   "outputs": [
    {
     "data": {
      "text/html": [
       "<div>\n",
       "<style scoped>\n",
       "    .dataframe tbody tr th:only-of-type {\n",
       "        vertical-align: middle;\n",
       "    }\n",
       "\n",
       "    .dataframe tbody tr th {\n",
       "        vertical-align: top;\n",
       "    }\n",
       "\n",
       "    .dataframe thead th {\n",
       "        text-align: right;\n",
       "    }\n",
       "</style>\n",
       "<table border=\"1\" class=\"dataframe\">\n",
       "  <thead>\n",
       "    <tr style=\"text-align: right;\">\n",
       "      <th></th>\n",
       "      <th>fixed acidity</th>\n",
       "      <th>volatile acidity</th>\n",
       "      <th>citric acid</th>\n",
       "      <th>residual sugar</th>\n",
       "      <th>chlorides</th>\n",
       "      <th>free sulfur dioxide</th>\n",
       "      <th>total sulfur dioxide</th>\n",
       "      <th>density</th>\n",
       "      <th>pH</th>\n",
       "      <th>sulphates</th>\n",
       "      <th>alcohol</th>\n",
       "    </tr>\n",
       "  </thead>\n",
       "  <tbody>\n",
       "    <tr>\n",
       "      <th>1539</th>\n",
       "      <td>7.2</td>\n",
       "      <td>0.390</td>\n",
       "      <td>0.32</td>\n",
       "      <td>1.8</td>\n",
       "      <td>0.065</td>\n",
       "      <td>34.0</td>\n",
       "      <td>60.0</td>\n",
       "      <td>0.99714</td>\n",
       "      <td>3.46</td>\n",
       "      <td>0.78</td>\n",
       "      <td>9.9</td>\n",
       "    </tr>\n",
       "    <tr>\n",
       "      <th>1109</th>\n",
       "      <td>10.8</td>\n",
       "      <td>0.470</td>\n",
       "      <td>0.43</td>\n",
       "      <td>2.1</td>\n",
       "      <td>0.171</td>\n",
       "      <td>27.0</td>\n",
       "      <td>66.0</td>\n",
       "      <td>0.99820</td>\n",
       "      <td>3.17</td>\n",
       "      <td>0.76</td>\n",
       "      <td>10.8</td>\n",
       "    </tr>\n",
       "    <tr>\n",
       "      <th>100</th>\n",
       "      <td>8.3</td>\n",
       "      <td>0.610</td>\n",
       "      <td>0.30</td>\n",
       "      <td>2.1</td>\n",
       "      <td>0.084</td>\n",
       "      <td>11.0</td>\n",
       "      <td>50.0</td>\n",
       "      <td>0.99720</td>\n",
       "      <td>3.40</td>\n",
       "      <td>0.61</td>\n",
       "      <td>10.2</td>\n",
       "    </tr>\n",
       "    <tr>\n",
       "      <th>3878</th>\n",
       "      <td>6.5</td>\n",
       "      <td>0.350</td>\n",
       "      <td>0.31</td>\n",
       "      <td>10.2</td>\n",
       "      <td>0.069</td>\n",
       "      <td>58.0</td>\n",
       "      <td>170.0</td>\n",
       "      <td>0.99692</td>\n",
       "      <td>3.18</td>\n",
       "      <td>0.49</td>\n",
       "      <td>9.4</td>\n",
       "    </tr>\n",
       "    <tr>\n",
       "      <th>4817</th>\n",
       "      <td>5.8</td>\n",
       "      <td>0.385</td>\n",
       "      <td>0.25</td>\n",
       "      <td>3.7</td>\n",
       "      <td>0.031</td>\n",
       "      <td>38.0</td>\n",
       "      <td>122.0</td>\n",
       "      <td>0.99128</td>\n",
       "      <td>3.20</td>\n",
       "      <td>0.63</td>\n",
       "      <td>11.2</td>\n",
       "    </tr>\n",
       "  </tbody>\n",
       "</table>\n",
       "</div>"
      ],
      "text/plain": [
       "      fixed acidity  volatile acidity  citric acid  residual sugar  chlorides  \\\n",
       "1539            7.2             0.390         0.32             1.8      0.065   \n",
       "1109           10.8             0.470         0.43             2.1      0.171   \n",
       "100             8.3             0.610         0.30             2.1      0.084   \n",
       "3878            6.5             0.350         0.31            10.2      0.069   \n",
       "4817            5.8             0.385         0.25             3.7      0.031   \n",
       "\n",
       "      free sulfur dioxide  total sulfur dioxide  density    pH  sulphates  \\\n",
       "1539                 34.0                  60.0  0.99714  3.46       0.78   \n",
       "1109                 27.0                  66.0  0.99820  3.17       0.76   \n",
       "100                  11.0                  50.0  0.99720  3.40       0.61   \n",
       "3878                 58.0                 170.0  0.99692  3.18       0.49   \n",
       "4817                 38.0                 122.0  0.99128  3.20       0.63   \n",
       "\n",
       "      alcohol  \n",
       "1539      9.9  \n",
       "1109     10.8  \n",
       "100      10.2  \n",
       "3878      9.4  \n",
       "4817     11.2  "
      ]
     },
     "execution_count": 25,
     "metadata": {},
     "output_type": "execute_result"
    }
   ],
   "source": [
    "X_train.head()"
   ]
  },
  {
   "cell_type": "markdown",
   "metadata": {},
   "source": [
    "# Train the Model using Random Forest \n",
    "\n"
   ]
  },
  {
   "cell_type": "code",
   "execution_count": 26,
   "metadata": {
    "scrolled": false
   },
   "outputs": [
    {
     "data": {
      "text/plain": [
       "RandomForestClassifier(bootstrap=True, ccp_alpha=0.0, class_weight=None,\n",
       "                       criterion='gini', max_depth=None, max_features='auto',\n",
       "                       max_leaf_nodes=None, max_samples=None,\n",
       "                       min_impurity_decrease=0.0, min_impurity_split=None,\n",
       "                       min_samples_leaf=1, min_samples_split=2,\n",
       "                       min_weight_fraction_leaf=0.0, n_estimators=100,\n",
       "                       n_jobs=None, oob_score=False, random_state=None,\n",
       "                       verbose=0, warm_start=False)"
      ]
     },
     "execution_count": 26,
     "metadata": {},
     "output_type": "execute_result"
    }
   ],
   "source": [
    "#Train the model\n",
    "from sklearn import tree\n",
    "from sklearn.ensemble import RandomForestClassifier\n",
    "\n",
    "rfc = RandomForestClassifier(n_estimators=100)\n",
    "rfc.fit(X_train, y_train)"
   ]
  },
  {
   "cell_type": "code",
   "execution_count": 27,
   "metadata": {
    "scrolled": true
   },
   "outputs": [
    {
     "name": "stdout",
     "output_type": "stream",
     "text": [
      "              precision    recall  f1-score   support\n",
      "\n",
      "           1       0.75      0.14      0.23        66\n",
      "           2       0.68      0.75      0.72       518\n",
      "           3       0.68      0.72      0.70       738\n",
      "           4       0.72      0.62      0.67       303\n",
      "\n",
      "    accuracy                           0.69      1625\n",
      "   macro avg       0.71      0.56      0.58      1625\n",
      "weighted avg       0.69      0.69      0.68      1625\n",
      "\n"
     ]
    }
   ],
   "source": [
    "#Test the model\n",
    "from sklearn.metrics import confusion_matrix, classification_report, accuracy_score\n",
    "\n",
    "predictions = rfc.predict(X_test)\n",
    "print(classification_report(y_test, predictions))"
   ]
  },
  {
   "cell_type": "code",
   "execution_count": 28,
   "metadata": {
    "scrolled": true
   },
   "outputs": [
    {
     "data": {
      "text/plain": [
       "alcohol                 0.130144\n",
       "density                 0.108376\n",
       "volatile acidity        0.099717\n",
       "total sulfur dioxide    0.089539\n",
       "chlorides               0.087336\n",
       "sulphates               0.085311\n",
       "free sulfur dioxide     0.084068\n",
       "residual sugar          0.081501\n",
       "pH                      0.080723\n",
       "citric acid             0.079249\n",
       "fixed acidity           0.074036\n",
       "dtype: float64"
      ]
     },
     "execution_count": 28,
     "metadata": {},
     "output_type": "execute_result"
    }
   ],
   "source": [
    "#Feature importances as a percentage\n",
    "\n",
    "feature_list = list(X.columns)\n",
    "feature_imp = pd.Series(rfc.feature_importances_,index=feature_list).sort_values(ascending=False)\n",
    "feature_imp"
   ]
  },
  {
   "cell_type": "code",
   "execution_count": 29,
   "metadata": {},
   "outputs": [
    {
     "name": "stdout",
     "output_type": "stream",
     "text": [
      "The Accuracy Score = 0.688\n"
     ]
    }
   ],
   "source": [
    "#The Accuracy score\n",
    "\n",
    "print(\"The Accuracy Score =\", accuracy_score(y_test, predictions))"
   ]
  },
  {
   "cell_type": "code",
   "execution_count": 30,
   "metadata": {},
   "outputs": [
    {
     "name": "stdout",
     "output_type": "stream",
     "text": [
      "[3 2 4 2 2 3 2 3 2 4]\n",
      "1504    4\n",
      "1419    2\n",
      "3162    4\n",
      "3091    3\n",
      "2433    3\n",
      "1297    3\n",
      "174     2\n",
      "3985    3\n",
      "561     2\n",
      "4347    4\n",
      "Name: bin_quality, dtype: category\n",
      "Categories (4, int64): [1 < 2 < 3 < 4]\n"
     ]
    }
   ],
   "source": [
    "#Our predictions vs actual predictions\n",
    "\n",
    "print(predictions[:10])\n",
    "print(y_test[:10])"
   ]
  },
  {
   "cell_type": "markdown",
   "metadata": {},
   "source": [
    "# Save the Model"
   ]
  },
  {
   "cell_type": "code",
   "execution_count": null,
   "metadata": {},
   "outputs": [],
   "source": [
    "# save your model by updating \"your_name\" with your name\n",
    "# and \"your_model\" with your model variable\n",
    "# be sure to turn this in to BCS\n",
    "# if joblib fails to import, try running the command to install in terminal/git-bash\n",
    "\n",
    "# import joblib\n",
    "# filename = 'Saved Models/fdasfmdlafsalfms.sav'\n",
    "# joblib.dump(predictions, filename)"
   ]
  },
  {
   "cell_type": "code",
   "execution_count": null,
   "metadata": {},
   "outputs": [],
   "source": []
  },
  {
   "cell_type": "code",
   "execution_count": null,
   "metadata": {},
   "outputs": [],
   "source": []
  },
  {
   "cell_type": "code",
   "execution_count": null,
   "metadata": {},
   "outputs": [],
   "source": []
  },
  {
   "cell_type": "code",
   "execution_count": null,
   "metadata": {},
   "outputs": [],
   "source": []
  },
  {
   "cell_type": "code",
   "execution_count": null,
   "metadata": {},
   "outputs": [],
   "source": []
  },
  {
   "cell_type": "code",
   "execution_count": null,
   "metadata": {},
   "outputs": [],
   "source": []
  },
  {
   "cell_type": "code",
   "execution_count": null,
   "metadata": {},
   "outputs": [],
   "source": []
  }
 ],
 "metadata": {
  "kernel_info": {
   "name": "dev"
  },
  "kernelspec": {
   "display_name": "Python 3",
   "language": "python",
   "name": "python3"
  },
  "language_info": {
   "codemirror_mode": {
    "name": "ipython",
    "version": 3
   },
   "file_extension": ".py",
   "mimetype": "text/x-python",
   "name": "python",
   "nbconvert_exporter": "python",
   "pygments_lexer": "ipython3",
   "version": "3.7.5"
  },
  "nteract": {
   "version": "0.12.3"
  }
 },
 "nbformat": 4,
 "nbformat_minor": 2
}
